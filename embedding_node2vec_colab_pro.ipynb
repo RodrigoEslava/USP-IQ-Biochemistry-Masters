{
  "nbformat": 4,
  "nbformat_minor": 0,
  "metadata": {
    "colab": {
      "provenance": [],
      "machine_shape": "hm",
      "mount_file_id": "1Ry9q3GuPeHJu2OAO8ok0PdLYqIZeFjmN",
      "authorship_tag": "ABX9TyNnC7yjvLYLL1CccJhw6249",
      "include_colab_link": true
    },
    "kernelspec": {
      "name": "python3",
      "display_name": "Python 3"
    },
    "language_info": {
      "name": "python"
    }
  },
  "cells": [
    {
      "cell_type": "markdown",
      "metadata": {
        "id": "view-in-github",
        "colab_type": "text"
      },
      "source": [
        "<a href=\"https://colab.research.google.com/github/RodrigoEslava/USP-IQ-Biochemistry-Masters/blob/main/embedding_node2vec_colab_pro.ipynb\" target=\"_parent\"><img src=\"https://colab.research.google.com/assets/colab-badge.svg\" alt=\"Open In Colab\"/></a>"
      ]
    },
    {
      "cell_type": "code",
      "execution_count": null,
      "metadata": {
        "colab": {
          "base_uri": "https://localhost:8080/"
        },
        "id": "zyRj8yB0nSQp",
        "outputId": "e6078cbd-f93b-4644-c8bc-fd515f5e55f8"
      },
      "outputs": [
        {
          "output_type": "stream",
          "name": "stdout",
          "text": [
            "Collecting node2vec\n",
            "  Downloading node2vec-0.4.6-py3-none-any.whl (7.0 kB)\n",
            "Requirement already satisfied: gensim<5.0.0,>=4.1.2 in /usr/local/lib/python3.10/dist-packages (from node2vec) (4.3.2)\n",
            "Requirement already satisfied: joblib<2.0.0,>=1.1.0 in /usr/local/lib/python3.10/dist-packages (from node2vec) (1.4.0)\n",
            "Collecting networkx<3.0,>=2.5 (from node2vec)\n",
            "  Downloading networkx-2.8.8-py3-none-any.whl (2.0 MB)\n",
            "\u001b[2K     \u001b[90m━━━━━━━━━━━━━━━━━━━━━━━━━━━━━━━━━━━━━━━━\u001b[0m \u001b[32m2.0/2.0 MB\u001b[0m \u001b[31m22.0 MB/s\u001b[0m eta \u001b[36m0:00:00\u001b[0m\n",
            "\u001b[?25hRequirement already satisfied: numpy<2.0.0,>=1.19.5 in /usr/local/lib/python3.10/dist-packages (from node2vec) (1.25.2)\n",
            "Requirement already satisfied: tqdm<5.0.0,>=4.55.1 in /usr/local/lib/python3.10/dist-packages (from node2vec) (4.66.2)\n",
            "Requirement already satisfied: scipy>=1.7.0 in /usr/local/lib/python3.10/dist-packages (from gensim<5.0.0,>=4.1.2->node2vec) (1.11.4)\n",
            "Requirement already satisfied: smart-open>=1.8.1 in /usr/local/lib/python3.10/dist-packages (from gensim<5.0.0,>=4.1.2->node2vec) (6.4.0)\n",
            "Installing collected packages: networkx, node2vec\n",
            "  Attempting uninstall: networkx\n",
            "    Found existing installation: networkx 3.3\n",
            "    Uninstalling networkx-3.3:\n",
            "      Successfully uninstalled networkx-3.3\n",
            "\u001b[31mERROR: pip's dependency resolver does not currently take into account all the packages that are installed. This behaviour is the source of the following dependency conflicts.\n",
            "torch 2.2.1+cu121 requires nvidia-cublas-cu12==12.1.3.1; platform_system == \"Linux\" and platform_machine == \"x86_64\", which is not installed.\n",
            "torch 2.2.1+cu121 requires nvidia-cuda-cupti-cu12==12.1.105; platform_system == \"Linux\" and platform_machine == \"x86_64\", which is not installed.\n",
            "torch 2.2.1+cu121 requires nvidia-cuda-nvrtc-cu12==12.1.105; platform_system == \"Linux\" and platform_machine == \"x86_64\", which is not installed.\n",
            "torch 2.2.1+cu121 requires nvidia-cuda-runtime-cu12==12.1.105; platform_system == \"Linux\" and platform_machine == \"x86_64\", which is not installed.\n",
            "torch 2.2.1+cu121 requires nvidia-cudnn-cu12==8.9.2.26; platform_system == \"Linux\" and platform_machine == \"x86_64\", which is not installed.\n",
            "torch 2.2.1+cu121 requires nvidia-cufft-cu12==11.0.2.54; platform_system == \"Linux\" and platform_machine == \"x86_64\", which is not installed.\n",
            "torch 2.2.1+cu121 requires nvidia-curand-cu12==10.3.2.106; platform_system == \"Linux\" and platform_machine == \"x86_64\", which is not installed.\n",
            "torch 2.2.1+cu121 requires nvidia-cusolver-cu12==11.4.5.107; platform_system == \"Linux\" and platform_machine == \"x86_64\", which is not installed.\n",
            "torch 2.2.1+cu121 requires nvidia-cusparse-cu12==12.1.0.106; platform_system == \"Linux\" and platform_machine == \"x86_64\", which is not installed.\n",
            "torch 2.2.1+cu121 requires nvidia-nccl-cu12==2.19.3; platform_system == \"Linux\" and platform_machine == \"x86_64\", which is not installed.\n",
            "torch 2.2.1+cu121 requires nvidia-nvtx-cu12==12.1.105; platform_system == \"Linux\" and platform_machine == \"x86_64\", which is not installed.\u001b[0m\u001b[31m\n",
            "\u001b[0mSuccessfully installed networkx-2.8.8 node2vec-0.4.6\n"
          ]
        }
      ],
      "source": [
        "pip install node2vec"
      ]
    },
    {
      "cell_type": "code",
      "source": [
        "import networkx as nx\n",
        "\n",
        "# Ler o arquivo de lista de arestas diretamente em um objeto de grafo\n",
        "G = nx.read_edgelist(\"/content/drive/MyDrive/USP/Projeto Mestrado/mestrado refeito/grafos biogrid/Biogrid 2023/largest_component_biogrid_2023_sem_pesos.edgelist\", nodetype=int, create_using=nx.Graph(directed=False, weighted=False), data=False)\n",
        "\n",
        "# Agora, 'G' contém o grafo construído a partir da lista de arestas, sem direção e sem pesos\n",
        "#Libraries\n",
        "import pandas as pd\n",
        "import numpy as np\n",
        "import networkx as nx\n",
        "from node2vec import Node2Vec\n",
        "\n",
        "#Defining log object to notify the steps updates\n",
        "\n",
        "class AbstractSimpleLog():\n",
        "    def log(self, msg):\n",
        "        raise Exception(\"log method must be implemented\")\n",
        "\n",
        "class PrintLog(AbstractSimpleLog):\n",
        "    def log(self, msg):\n",
        "        print(msg)\n",
        "\n",
        "\n",
        "\n",
        "#Default name for embeddign file\n",
        "EMBEDDING_FILE = '/content/drive/MyDrive/USP/Projeto Mestrado/mestrado refeito/grafos biogrid/Biogrid 2023/emb_sem_pesos_bio_2023_D50.txt'\n",
        "\n",
        "#Log object. To long computations\n",
        "\n",
        "logger = PrintLog()\n",
        "\n",
        "\n",
        "#Graph embedding\n",
        "\n",
        "#logger.log(\"Loading graph from {}\".format(interactome))\n",
        "#graph = nx.read_edgelist(\"bio-decagon-ppi.csv\", delimiter=\",\", create_using=Graph())\n",
        "#print(graph)\n",
        "#logger.log(\"Graph loaded\")\n",
        "\n",
        "#logger.log(\"Computing transition probabilities\")\n",
        "n2v = Node2Vec(G , dimensions= 50, walk_length=40, num_walks=25, workers=1, p=1, q=1)\n",
        "logger.log(\"Transitions probabilities computed\")\n",
        "\n",
        "\n",
        "import pickle\n",
        "from node2vec import Node2Vec\n",
        "\n",
        "\n",
        "# Salvando o modelo para uso futuro antes de executar o fit\n",
        "with open('/content/drive/MyDrive/USP/Projeto Mestrado/mestrado refeito/grafos biogrid/Biogrid 2023/node2vec_model_D50.pkl', 'wb') as f:\n",
        "    pickle.dump(n2v, f)\n",
        "\n",
        "# Em outro momento, você pode carregar o modelo e executar o fit\n",
        "with open('/content/drive/MyDrive/USP/Projeto Mestrado/mestrado refeito/grafos biogrid/Biogrid 2023/node2vec_model_50.pkl', 'rb') as f:\n",
        "    n2v = pickle.load(f)\n"
      ],
      "metadata": {
        "id": "zfD7ZfVQncbx"
      },
      "execution_count": null,
      "outputs": []
    },
    {
      "cell_type": "code",
      "source": [
        "# Em outro momento, você pode carregar o modelo e executar o fit\n",
        "with open('/content/drive/MyDrive/USP/Projeto Mestrado/mestrado refeito/grafos biogrid/Biogrid 2023/node2vec_model_D50.pkl', 'rb') as f:\n",
        "    n2v = pickle.load(f)"
      ],
      "metadata": {
        "id": "i7KR-Qhs6wha"
      },
      "execution_count": null,
      "outputs": []
    },
    {
      "cell_type": "code",
      "source": [
        "EMBEDDING_FILE = '/content/drive/MyDrive/USP/Projeto Mestrado/mestrado refeito/grafos biogrid/Biogrid 2023/emb_sem_pesos_bio_2023_window20.txt'\n",
        "\n",
        "\n",
        "\n",
        "\n",
        "logger.log(\"Starting Node2Vec embedding\")\n",
        "n2v_model = n2v.fit(window=20, min_count=1, batch_words=1000)\n",
        "logger.log(\"Node2Vec embedding created\")\n",
        "\n",
        "logger.log(\"Saving embedding file\")\n",
        "n2v_model.wv.save_word2vec_format(EMBEDDING_FILE)\n",
        "logger.log(\"Embedding file saved\")"
      ],
      "metadata": {
        "colab": {
          "base_uri": "https://localhost:8080/"
        },
        "id": "3vepCl5r5Pip",
        "outputId": "ffc0fe48-858f-4103-f1b2-d9521fd312bc"
      },
      "execution_count": null,
      "outputs": [
        {
          "output_type": "stream",
          "name": "stdout",
          "text": [
            "Starting Node2Vec embedding\n",
            "Node2Vec embedding created\n",
            "Saving embedding file\n",
            "Embedding file saved\n"
          ]
        }
      ]
    },
    {
      "cell_type": "code",
      "source": [
        "from gensim.models import Word2Vec\n",
        "from node2vec import Node2Vec\n",
        "# Salvando o modelo treinado\n",
        "n2v_model.save(\"/content/drive/MyDrive/USP/Projeto Mestrado/mestrado refeito/grafos biogrid/Biogrid 2023/node2vec_model_biogrid_2023_sem_pesos_trained_window20.model\")\n",
        "\n",
        "# Em outro momento, você pode carregar o modelo treinado\n",
        "#loaded_model = Word2Vec.load(\"/content/drive/MyDrive/USP/Projeto Mestrado/mestrado refeito/grafos biogrid/Biogrid 2023/node2vec_model_biogrid_2023_sem_pesos_trained.model\")"
      ],
      "metadata": {
        "id": "OqH47EIu7K_D"
      },
      "execution_count": null,
      "outputs": []
    }
  ]
}